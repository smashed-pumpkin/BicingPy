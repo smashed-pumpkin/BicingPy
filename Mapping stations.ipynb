{
 "cells": [
  {
   "cell_type": "markdown",
   "metadata": {
    "deletable": true,
    "editable": true
   },
   "source": [
    "#### Get all the necessary credentials"
   ]
  },
  {
   "cell_type": "markdown",
   "metadata": {
    "deletable": true,
    "editable": true
   },
   "source": [
    "Create a function that locates the respective files (those need to be saved in the Credentials folder):"
   ]
  },
  {
   "cell_type": "code",
   "execution_count": 1,
   "metadata": {
    "collapsed": true,
    "deletable": true,
    "editable": true
   },
   "outputs": [],
   "source": [
    "from pathlib import Path\n",
    "import os\n",
    "\n",
    "def locate(filename):\n",
    "    cwd = Path(os.getcwd())\n",
    "    cwd_new = str(cwd.parent)+'\\Credentials'\n",
    "        \n",
    "    for r,d,f in os.walk(cwd_new):\n",
    "        for files in f:\n",
    "            if files == filename:\n",
    "                path = os.path.join(r,files)\n",
    "              \n",
    "    with open(path, 'r') as f:\n",
    "        content = f.readlines()\n",
    "        content = [x.strip() for x in content]\n",
    "        \n",
    "    return(content)"
   ]
  },
  {
   "cell_type": "markdown",
   "metadata": {
    "deletable": true,
    "editable": true
   },
   "source": [
    "#### Get your current location"
   ]
  },
  {
   "cell_type": "code",
   "execution_count": 2,
   "metadata": {
    "collapsed": false,
    "deletable": true,
    "editable": true
   },
   "outputs": [],
   "source": [
    "from geopy.geocoders import GoogleV3\n",
    "\n",
    "address = locate('home_address.txt')[0]\n",
    "key = locate('login_googleAPI.txt')[0]\n",
    "\n",
    "geolocator = GoogleV3(api_key=key)\n",
    "current_latlon = geolocator.geocode(address)[1]"
   ]
  },
  {
   "cell_type": "markdown",
   "metadata": {
    "collapsed": true,
    "deletable": true,
    "editable": true
   },
   "source": [
    "#### Identify the available bicing stations within the area"
   ]
  },
  {
   "cell_type": "markdown",
   "metadata": {
    "deletable": true,
    "editable": true
   },
   "source": [
    "Select the distance you are prepared to walk:"
   ]
  },
  {
   "cell_type": "code",
   "execution_count": 3,
   "metadata": {
    "collapsed": true,
    "deletable": true,
    "editable": true
   },
   "outputs": [],
   "source": [
    "distance = 0.3 # in kilometers"
   ]
  },
  {
   "cell_type": "markdown",
   "metadata": {
    "deletable": true,
    "editable": true
   },
   "source": [
    "Get the nearest stations within the radius:"
   ]
  },
  {
   "cell_type": "code",
   "execution_count": 4,
   "metadata": {
    "collapsed": true,
    "deletable": true,
    "editable": true
   },
   "outputs": [],
   "source": [
    "import json\n",
    "import requests\n",
    "\n",
    "current_lat = current_latlon[0]\n",
    "current_lon = current_latlon[1]\n",
    "\n",
    "url = 'http://barcelonaapi.marcpous.com/bicing'\n",
    "url_nearest = url+'/nearstation/latlon/'+str(current_lat)+'/'+str(current_lon)+'/'+str(distance)+'.json'\n",
    "res_nearest = requests.get(url_nearest)\n",
    "json_nearby = json.loads(res_nearest.text)"
   ]
  },
  {
   "cell_type": "markdown",
   "metadata": {
    "deletable": true,
    "editable": true
   },
   "source": [
    "Create a list of the selected stations:"
   ]
  },
  {
   "cell_type": "code",
   "execution_count": 5,
   "metadata": {
    "collapsed": true,
    "deletable": true,
    "editable": true
   },
   "outputs": [],
   "source": [
    "station_id = []\n",
    "station_name = []\n",
    "station_lat = []\n",
    "station_lon = []\n",
    "distance = []\n",
    "\n",
    "for idx,i in enumerate(json_nearby['data']['nearstations']):\n",
    "    station_id.append(int(json_nearby['data']['nearstations'][idx]['id']))\n",
    "    station_name.append(json_nearby['data']['nearstations'][idx]['name'])\n",
    "    station_lat.append(float(json_nearby['data']['nearstations'][idx]['lat']))\n",
    "    station_lon.append(float(json_nearby['data']['nearstations'][idx]['lon']))\n",
    "    distance.append(float(json_nearby['data']['nearstations'][idx]['distance']))"
   ]
  },
  {
   "cell_type": "markdown",
   "metadata": {
    "deletable": true,
    "editable": true
   },
   "source": [
    "Find out how many bikes are available at each of the selected stations:"
   ]
  },
  {
   "cell_type": "code",
   "execution_count": 6,
   "metadata": {
    "collapsed": true,
    "deletable": true,
    "editable": true
   },
   "outputs": [],
   "source": [
    "import datetime\n",
    "\n",
    "bikes = []\n",
    "slots = []\n",
    "dates = []\n",
    "bikes_ok = []\n",
    "slots_ok = []\n",
    "\n",
    "for idx,i in enumerate(station_id):\n",
    "    url_availability = 'http://wservice.viabicing.cat/v2/stations/'+str(i)\n",
    "    res_availability = requests.get(url_availability)\n",
    "    json_availability = json.loads(res_availability.text)\n",
    "    \n",
    "    bikes_num = json_availability['stations'][0]['bikes']\n",
    "    slots_num = json_availability['stations'][0]['slots']\n",
    "    \n",
    "    bikes.append(bikes_num)\n",
    "    slots.append(slots_num)\n",
    "    \n",
    "    if int(bikes_num) >= 2:\n",
    "        bikes_ok.append(True)\n",
    "    else:\n",
    "        bikes_ok.append(False)\n",
    "        \n",
    "    if int(slots_num) >= 2:\n",
    "        slots_ok.append(True)\n",
    "    else:\n",
    "        slots_ok.append(False)\n",
    "            \n",
    "    dates.append(datetime.datetime.fromtimestamp(json_availability['updateTime']).strftime('%Y-%m-%d %H:%M:%S'))"
   ]
  },
  {
   "cell_type": "markdown",
   "metadata": {
    "deletable": true,
    "editable": true
   },
   "source": [
    "Create a dataframe so that we can easily filter out the non-available stations:"
   ]
  },
  {
   "cell_type": "code",
   "execution_count": 7,
   "metadata": {
    "collapsed": false,
    "deletable": true,
    "editable": true
   },
   "outputs": [
    {
     "data": {
      "text/html": [
       "<div>\n",
       "<table border=\"1\" class=\"dataframe\">\n",
       "  <thead>\n",
       "    <tr style=\"text-align: right;\">\n",
       "      <th></th>\n",
       "      <th>bikes</th>\n",
       "      <th>bikes_ok</th>\n",
       "      <th>entry_date</th>\n",
       "      <th>slots</th>\n",
       "      <th>slots_ok</th>\n",
       "      <th>station_id</th>\n",
       "      <th>station_lat</th>\n",
       "      <th>station_lon</th>\n",
       "      <th>station_name</th>\n",
       "    </tr>\n",
       "  </thead>\n",
       "  <tbody>\n",
       "    <tr>\n",
       "      <th>0</th>\n",
       "      <td>0</td>\n",
       "      <td>False</td>\n",
       "      <td>2018-07-04 11:21:08</td>\n",
       "      <td>20</td>\n",
       "      <td>True</td>\n",
       "      <td>29</td>\n",
       "      <td>41.401101</td>\n",
       "      <td>2.170082</td>\n",
       "      <td>Provença, 388</td>\n",
       "    </tr>\n",
       "    <tr>\n",
       "      <th>1</th>\n",
       "      <td>17</td>\n",
       "      <td>True</td>\n",
       "      <td>2018-07-04 11:21:08</td>\n",
       "      <td>11</td>\n",
       "      <td>True</td>\n",
       "      <td>19</td>\n",
       "      <td>41.403282</td>\n",
       "      <td>2.170726</td>\n",
       "      <td>Rossello, 354</td>\n",
       "    </tr>\n",
       "    <tr>\n",
       "      <th>2</th>\n",
       "      <td>1</td>\n",
       "      <td>False</td>\n",
       "      <td>2018-07-04 11:21:08</td>\n",
       "      <td>30</td>\n",
       "      <td>True</td>\n",
       "      <td>362</td>\n",
       "      <td>41.397006</td>\n",
       "      <td>2.170570</td>\n",
       "      <td>Bailén, 100</td>\n",
       "    </tr>\n",
       "    <tr>\n",
       "      <th>3</th>\n",
       "      <td>1</td>\n",
       "      <td>False</td>\n",
       "      <td>2018-07-04 11:21:08</td>\n",
       "      <td>18</td>\n",
       "      <td>True</td>\n",
       "      <td>123</td>\n",
       "      <td>41.397411</td>\n",
       "      <td>2.167798</td>\n",
       "      <td>Girona, 126</td>\n",
       "    </tr>\n",
       "    <tr>\n",
       "      <th>4</th>\n",
       "      <td>0</td>\n",
       "      <td>False</td>\n",
       "      <td>2018-07-04 11:21:08</td>\n",
       "      <td>24</td>\n",
       "      <td>True</td>\n",
       "      <td>224</td>\n",
       "      <td>41.399102</td>\n",
       "      <td>2.165556</td>\n",
       "      <td>Girona, 156</td>\n",
       "    </tr>\n",
       "    <tr>\n",
       "      <th>5</th>\n",
       "      <td>2</td>\n",
       "      <td>True</td>\n",
       "      <td>2018-07-04 11:21:08</td>\n",
       "      <td>27</td>\n",
       "      <td>True</td>\n",
       "      <td>370</td>\n",
       "      <td>41.403735</td>\n",
       "      <td>2.172987</td>\n",
       "      <td>Sardenya, 234</td>\n",
       "    </tr>\n",
       "    <tr>\n",
       "      <th>6</th>\n",
       "      <td>0</td>\n",
       "      <td>False</td>\n",
       "      <td>2018-07-04 11:21:08</td>\n",
       "      <td>19</td>\n",
       "      <td>True</td>\n",
       "      <td>22</td>\n",
       "      <td>41.402051</td>\n",
       "      <td>2.175206</td>\n",
       "      <td>Sardenya, 296</td>\n",
       "    </tr>\n",
       "  </tbody>\n",
       "</table>\n",
       "</div>"
      ],
      "text/plain": [
       "  bikes bikes_ok           entry_date slots slots_ok  station_id  station_lat  \\\n",
       "0     0    False  2018-07-04 11:21:08    20     True          29    41.401101   \n",
       "1    17     True  2018-07-04 11:21:08    11     True          19    41.403282   \n",
       "2     1    False  2018-07-04 11:21:08    30     True         362    41.397006   \n",
       "3     1    False  2018-07-04 11:21:08    18     True         123    41.397411   \n",
       "4     0    False  2018-07-04 11:21:08    24     True         224    41.399102   \n",
       "5     2     True  2018-07-04 11:21:08    27     True         370    41.403735   \n",
       "6     0    False  2018-07-04 11:21:08    19     True          22    41.402051   \n",
       "\n",
       "   station_lon   station_name  \n",
       "0     2.170082  Provença, 388  \n",
       "1     2.170726  Rossello, 354  \n",
       "2     2.170570    Bailén, 100  \n",
       "3     2.167798    Girona, 126  \n",
       "4     2.165556    Girona, 156  \n",
       "5     2.172987  Sardenya, 234  \n",
       "6     2.175206  Sardenya, 296  "
      ]
     },
     "execution_count": 7,
     "metadata": {},
     "output_type": "execute_result"
    }
   ],
   "source": [
    "import pandas as pd\n",
    "dataset = pd.DataFrame({'station_id':station_id,\n",
    "                        'station_name':station_name,\n",
    "                        'station_lat':station_lat,\n",
    "                        'station_lon':station_lon,\n",
    "                        'bikes':bikes,\n",
    "                        'slots':slots,\n",
    "                        'bikes_ok':bikes_ok,\n",
    "                        'slots_ok':slots_ok,\n",
    "                        'entry_date':dates\n",
    "                       })\n",
    "dataset"
   ]
  },
  {
   "cell_type": "markdown",
   "metadata": {
    "deletable": true,
    "editable": true
   },
   "source": [
    "#### Map out the available stations"
   ]
  },
  {
   "cell_type": "markdown",
   "metadata": {
    "deletable": true,
    "editable": true
   },
   "source": [
    "Filter out stations that are not available:"
   ]
  },
  {
   "cell_type": "code",
   "execution_count": 8,
   "metadata": {
    "collapsed": false,
    "deletable": true,
    "editable": true
   },
   "outputs": [
    {
     "data": {
      "text/html": [
       "<div>\n",
       "<table border=\"1\" class=\"dataframe\">\n",
       "  <thead>\n",
       "    <tr style=\"text-align: right;\">\n",
       "      <th></th>\n",
       "      <th>bikes</th>\n",
       "      <th>bikes_ok</th>\n",
       "      <th>entry_date</th>\n",
       "      <th>slots</th>\n",
       "      <th>slots_ok</th>\n",
       "      <th>station_id</th>\n",
       "      <th>station_lat</th>\n",
       "      <th>station_lon</th>\n",
       "      <th>station_name</th>\n",
       "    </tr>\n",
       "  </thead>\n",
       "  <tbody>\n",
       "    <tr>\n",
       "      <th>0</th>\n",
       "      <td>17</td>\n",
       "      <td>True</td>\n",
       "      <td>2018-07-04 11:21:08</td>\n",
       "      <td>11</td>\n",
       "      <td>True</td>\n",
       "      <td>19</td>\n",
       "      <td>41.403282</td>\n",
       "      <td>2.170726</td>\n",
       "      <td>Rossello, 354</td>\n",
       "    </tr>\n",
       "    <tr>\n",
       "      <th>1</th>\n",
       "      <td>2</td>\n",
       "      <td>True</td>\n",
       "      <td>2018-07-04 11:21:08</td>\n",
       "      <td>27</td>\n",
       "      <td>True</td>\n",
       "      <td>370</td>\n",
       "      <td>41.403735</td>\n",
       "      <td>2.172987</td>\n",
       "      <td>Sardenya, 234</td>\n",
       "    </tr>\n",
       "  </tbody>\n",
       "</table>\n",
       "</div>"
      ],
      "text/plain": [
       "  bikes bikes_ok           entry_date slots slots_ok  station_id  station_lat  \\\n",
       "0    17     True  2018-07-04 11:21:08    11     True          19    41.403282   \n",
       "1     2     True  2018-07-04 11:21:08    27     True         370    41.403735   \n",
       "\n",
       "   station_lon   station_name  \n",
       "0     2.170726  Rossello, 354  \n",
       "1     2.172987  Sardenya, 234  "
      ]
     },
     "execution_count": 8,
     "metadata": {},
     "output_type": "execute_result"
    }
   ],
   "source": [
    "dataset_clean_bikes = dataset[dataset.bikes_ok == True].reset_index(drop=True)\n",
    "dataset_clean_bikes"
   ]
  },
  {
   "cell_type": "code",
   "execution_count": 9,
   "metadata": {
    "collapsed": false,
    "deletable": true,
    "editable": true
   },
   "outputs": [
    {
     "data": {
      "text/html": [
       "<div>\n",
       "<table border=\"1\" class=\"dataframe\">\n",
       "  <thead>\n",
       "    <tr style=\"text-align: right;\">\n",
       "      <th></th>\n",
       "      <th>bikes</th>\n",
       "      <th>bikes_ok</th>\n",
       "      <th>entry_date</th>\n",
       "      <th>slots</th>\n",
       "      <th>slots_ok</th>\n",
       "      <th>station_id</th>\n",
       "      <th>station_lat</th>\n",
       "      <th>station_lon</th>\n",
       "      <th>station_name</th>\n",
       "    </tr>\n",
       "  </thead>\n",
       "  <tbody>\n",
       "    <tr>\n",
       "      <th>0</th>\n",
       "      <td>0</td>\n",
       "      <td>False</td>\n",
       "      <td>2018-07-04 11:21:08</td>\n",
       "      <td>20</td>\n",
       "      <td>True</td>\n",
       "      <td>29</td>\n",
       "      <td>41.401101</td>\n",
       "      <td>2.170082</td>\n",
       "      <td>Provença, 388</td>\n",
       "    </tr>\n",
       "    <tr>\n",
       "      <th>1</th>\n",
       "      <td>17</td>\n",
       "      <td>True</td>\n",
       "      <td>2018-07-04 11:21:08</td>\n",
       "      <td>11</td>\n",
       "      <td>True</td>\n",
       "      <td>19</td>\n",
       "      <td>41.403282</td>\n",
       "      <td>2.170726</td>\n",
       "      <td>Rossello, 354</td>\n",
       "    </tr>\n",
       "    <tr>\n",
       "      <th>2</th>\n",
       "      <td>1</td>\n",
       "      <td>False</td>\n",
       "      <td>2018-07-04 11:21:08</td>\n",
       "      <td>30</td>\n",
       "      <td>True</td>\n",
       "      <td>362</td>\n",
       "      <td>41.397006</td>\n",
       "      <td>2.170570</td>\n",
       "      <td>Bailén, 100</td>\n",
       "    </tr>\n",
       "    <tr>\n",
       "      <th>3</th>\n",
       "      <td>1</td>\n",
       "      <td>False</td>\n",
       "      <td>2018-07-04 11:21:08</td>\n",
       "      <td>18</td>\n",
       "      <td>True</td>\n",
       "      <td>123</td>\n",
       "      <td>41.397411</td>\n",
       "      <td>2.167798</td>\n",
       "      <td>Girona, 126</td>\n",
       "    </tr>\n",
       "    <tr>\n",
       "      <th>4</th>\n",
       "      <td>0</td>\n",
       "      <td>False</td>\n",
       "      <td>2018-07-04 11:21:08</td>\n",
       "      <td>24</td>\n",
       "      <td>True</td>\n",
       "      <td>224</td>\n",
       "      <td>41.399102</td>\n",
       "      <td>2.165556</td>\n",
       "      <td>Girona, 156</td>\n",
       "    </tr>\n",
       "    <tr>\n",
       "      <th>5</th>\n",
       "      <td>2</td>\n",
       "      <td>True</td>\n",
       "      <td>2018-07-04 11:21:08</td>\n",
       "      <td>27</td>\n",
       "      <td>True</td>\n",
       "      <td>370</td>\n",
       "      <td>41.403735</td>\n",
       "      <td>2.172987</td>\n",
       "      <td>Sardenya, 234</td>\n",
       "    </tr>\n",
       "    <tr>\n",
       "      <th>6</th>\n",
       "      <td>0</td>\n",
       "      <td>False</td>\n",
       "      <td>2018-07-04 11:21:08</td>\n",
       "      <td>19</td>\n",
       "      <td>True</td>\n",
       "      <td>22</td>\n",
       "      <td>41.402051</td>\n",
       "      <td>2.175206</td>\n",
       "      <td>Sardenya, 296</td>\n",
       "    </tr>\n",
       "  </tbody>\n",
       "</table>\n",
       "</div>"
      ],
      "text/plain": [
       "  bikes bikes_ok           entry_date slots slots_ok  station_id  station_lat  \\\n",
       "0     0    False  2018-07-04 11:21:08    20     True          29    41.401101   \n",
       "1    17     True  2018-07-04 11:21:08    11     True          19    41.403282   \n",
       "2     1    False  2018-07-04 11:21:08    30     True         362    41.397006   \n",
       "3     1    False  2018-07-04 11:21:08    18     True         123    41.397411   \n",
       "4     0    False  2018-07-04 11:21:08    24     True         224    41.399102   \n",
       "5     2     True  2018-07-04 11:21:08    27     True         370    41.403735   \n",
       "6     0    False  2018-07-04 11:21:08    19     True          22    41.402051   \n",
       "\n",
       "   station_lon   station_name  \n",
       "0     2.170082  Provença, 388  \n",
       "1     2.170726  Rossello, 354  \n",
       "2     2.170570    Bailén, 100  \n",
       "3     2.167798    Girona, 126  \n",
       "4     2.165556    Girona, 156  \n",
       "5     2.172987  Sardenya, 234  \n",
       "6     2.175206  Sardenya, 296  "
      ]
     },
     "execution_count": 9,
     "metadata": {},
     "output_type": "execute_result"
    }
   ],
   "source": [
    "dataset_clean_slots = dataset[dataset.slots_ok == True].reset_index(drop=True)\n",
    "dataset_clean_slots"
   ]
  },
  {
   "cell_type": "markdown",
   "metadata": {
    "deletable": true,
    "editable": true
   },
   "source": [
    "Display on a map the cleaned up dataset:"
   ]
  },
  {
   "cell_type": "code",
   "execution_count": 10,
   "metadata": {
    "collapsed": true,
    "deletable": true,
    "editable": true
   },
   "outputs": [],
   "source": [
    "import folium\n",
    "\n",
    "folmap_bikes = folium.Map(location=current_latlon, tiles='OpenStreetMap', zoom_start=20)\n",
    "folmap_slots = folium.Map(location=current_latlon, tiles='OpenStreetMap', zoom_start=20)"
   ]
  },
  {
   "cell_type": "markdown",
   "metadata": {
    "deletable": true,
    "editable": true
   },
   "source": [
    "Add to the map the markers of the available stations:"
   ]
  },
  {
   "cell_type": "code",
   "execution_count": 11,
   "metadata": {
    "collapsed": false,
    "deletable": true,
    "editable": true,
    "scrolled": true
   },
   "outputs": [
    {
     "data": {
      "text/html": [
       "<div style=\"width:100%;\"><div style=\"position:relative;width:100%;height:0;padding-bottom:60%;\"><iframe src=\"data:text/html;charset=utf-8;base64,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\" style=\"position:absolute;width:100%;height:100%;left:0;top:0;border:none !important;\" allowfullscreen webkitallowfullscreen mozallowfullscreen></iframe></div></div>"
      ],
      "text/plain": [
       "<folium.folium.Map at 0x1deae434c18>"
      ]
     },
     "execution_count": 11,
     "metadata": {},
     "output_type": "execute_result"
    }
   ],
   "source": [
    "for idx,i in enumerate(dataset_clean_bikes.station_id):\n",
    "    folium.Marker([dataset_clean_bikes.station_lat[idx], \n",
    "                   dataset_clean_bikes.station_lon[idx]], \n",
    "                   popup=dataset_clean_bikes.station_name[idx]+' / Available bikes: '+dataset_clean_bikes.bikes[idx]+' / Available slots: '+dataset_clean_bikes.slots[idx]).add_to(folmap_bikes)\n",
    "folmap_bikes"
   ]
  },
  {
   "cell_type": "code",
   "execution_count": 12,
   "metadata": {
    "collapsed": false,
    "deletable": true,
    "editable": true,
    "scrolled": true
   },
   "outputs": [
    {
     "data": {
      "text/html": [
       "<div style=\"width:100%;\"><div style=\"position:relative;width:100%;height:0;padding-bottom:60%;\"><iframe src=\"data:text/html;charset=utf-8;base64,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\" style=\"position:absolute;width:100%;height:100%;left:0;top:0;border:none !important;\" allowfullscreen webkitallowfullscreen mozallowfullscreen></iframe></div></div>"
      ],
      "text/plain": [
       "<folium.folium.Map at 0x1deae434be0>"
      ]
     },
     "execution_count": 12,
     "metadata": {},
     "output_type": "execute_result"
    }
   ],
   "source": [
    "for idx,i in enumerate(dataset_clean_slots.station_id):\n",
    "    folium.Marker([dataset_clean_slots.station_lat[idx], \n",
    "                   dataset_clean_slots.station_lon[idx]], \n",
    "                   popup=dataset_clean_slots.station_name[idx]+' / Available bikes: '+dataset_clean_slots.bikes[idx]+' / Available slots: '+dataset_clean_slots.slots[idx]).add_to(folmap_slots)\n",
    "folmap_slots"
   ]
  },
  {
   "cell_type": "code",
   "execution_count": null,
   "metadata": {
    "collapsed": true,
    "deletable": true,
    "editable": true
   },
   "outputs": [],
   "source": []
  }
 ],
 "metadata": {
  "kernelspec": {
   "display_name": "Python 3",
   "language": "python",
   "name": "python3"
  },
  "language_info": {
   "codemirror_mode": {
    "name": "ipython",
    "version": 3
   },
   "file_extension": ".py",
   "mimetype": "text/x-python",
   "name": "python",
   "nbconvert_exporter": "python",
   "pygments_lexer": "ipython3",
   "version": "3.5.2"
  }
 },
 "nbformat": 4,
 "nbformat_minor": 2
}
