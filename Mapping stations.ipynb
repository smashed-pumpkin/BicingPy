{
 "cells": [
  {
   "cell_type": "markdown",
   "metadata": {
    "deletable": true,
    "editable": true
   },
   "source": [
    "#### Get all the necessary credentials"
   ]
  },
  {
   "cell_type": "markdown",
   "metadata": {
    "deletable": true,
    "editable": true
   },
   "source": [
    "Create a function that locates the respective files (those need to be saved in the Credentials folder):"
   ]
  },
  {
   "cell_type": "code",
   "execution_count": 1,
   "metadata": {
    "collapsed": true,
    "deletable": true,
    "editable": true
   },
   "outputs": [],
   "source": [
    "from pathlib import Path\n",
    "import os\n",
    "\n",
    "def locate(filename):\n",
    "    cwd = Path(os.getcwd())\n",
    "    cwd_new = str(cwd.parent)+'\\Credentials'\n",
    "        \n",
    "    for r,d,f in os.walk(cwd_new):\n",
    "        for files in f:\n",
    "            if files == filename:\n",
    "                path = os.path.join(r,files)\n",
    "              \n",
    "    with open(path, 'r') as f:\n",
    "        content = f.readlines()\n",
    "        content = [x.strip() for x in content]\n",
    "        \n",
    "    return(content)"
   ]
  },
  {
   "cell_type": "markdown",
   "metadata": {
    "deletable": true,
    "editable": true
   },
   "source": [
    "#### Get your current location"
   ]
  },
  {
   "cell_type": "code",
   "execution_count": 2,
   "metadata": {
    "collapsed": false,
    "deletable": true,
    "editable": true
   },
   "outputs": [],
   "source": [
    "from geopy.geocoders import GoogleV3\n",
    "\n",
    "address = locate('home_address.txt')[0]\n",
    "key = locate('login_googleAPI.txt')[0]\n",
    "\n",
    "geolocator = GoogleV3(api_key=key)\n",
    "current_latlon = geolocator.geocode(address)[1]"
   ]
  },
  {
   "cell_type": "markdown",
   "metadata": {
    "collapsed": true,
    "deletable": true,
    "editable": true
   },
   "source": [
    "#### Identify the available bicing stations within the area"
   ]
  },
  {
   "cell_type": "markdown",
   "metadata": {},
   "source": [
    "Select the distance you are prepared to walk:"
   ]
  },
  {
   "cell_type": "code",
   "execution_count": 4,
   "metadata": {
    "collapsed": true
   },
   "outputs": [],
   "source": [
    "distance = 0.3 # in kilometers"
   ]
  },
  {
   "cell_type": "markdown",
   "metadata": {},
   "source": [
    "Get the nearest stations within the radius:"
   ]
  },
  {
   "cell_type": "code",
   "execution_count": 5,
   "metadata": {
    "collapsed": true
   },
   "outputs": [],
   "source": [
    "import json\n",
    "import requests\n",
    "\n",
    "current_lat = current_latlon[0]\n",
    "current_lon = current_latlon[1]\n",
    "\n",
    "url = 'http://barcelonaapi.marcpous.com/bicing'\n",
    "url_nearest = url+'/nearstation/latlon/'+str(current_lat)+'/'+str(current_lon)+'/'+str(distance)+'.json'\n",
    "res_nearest = requests.get(url_nearest)\n",
    "nearby = json.loads(res_nearest.text)"
   ]
  },
  {
   "cell_type": "markdown",
   "metadata": {},
   "source": [
    "Create a list of the selected stations:"
   ]
  },
  {
   "cell_type": "code",
   "execution_count": 6,
   "metadata": {
    "collapsed": true
   },
   "outputs": [],
   "source": [
    "station_id = []\n",
    "station_name = []\n",
    "station_lat = []\n",
    "station_lon = []\n",
    "distance = []\n",
    "\n",
    "for idx,i in enumerate(nearby['data']['nearstations']):\n",
    "    station_id.append(int(nearby['data']['nearstations'][idx]['id']))\n",
    "    station_name.append(nearby['data']['nearstations'][idx]['name'])\n",
    "    station_lat.append(float(nearby['data']['nearstations'][idx]['lat']))\n",
    "    station_lon.append(float(nearby['data']['nearstations'][idx]['lon']))\n",
    "    distance.append(float(nearby['data']['nearstations'][idx]['distance']))"
   ]
  },
  {
   "cell_type": "markdown",
   "metadata": {},
   "source": [
    "Find out how many bikes are available at each of the selected stations:"
   ]
  },
  {
   "cell_type": "code",
   "execution_count": 7,
   "metadata": {
    "collapsed": true
   },
   "outputs": [],
   "source": [
    "import datetime\n",
    "\n",
    "bikes = []\n",
    "slots = []\n",
    "dates = []\n",
    "bikes_ok = []\n",
    "slots_ok = []\n",
    "\n",
    "for idx,i in enumerate(station_id):\n",
    "    url_availability = 'http://wservice.viabicing.cat/v2/stations/'+str(i)\n",
    "    res_availability = requests.get(url_availability)\n",
    "    json_availability = json.loads(res_availability.text)\n",
    "    \n",
    "    bikes_num = json_availability['stations'][0]['bikes']\n",
    "    slots_num = json_availability['stations'][0]['slots']\n",
    "    \n",
    "    bikes.append(bikes_num)\n",
    "    slots.append(slots_num)\n",
    "    \n",
    "    if int(bikes_num) >= 2:\n",
    "        bikes_ok.append(True)\n",
    "    else:\n",
    "        bikes_ok.append(False)\n",
    "        \n",
    "    if int(slots_num) >= 2:\n",
    "        slots_ok.append(True)\n",
    "    else:\n",
    "        slots_ok.append(False)\n",
    "            \n",
    "    dates.append(datetime.datetime.fromtimestamp(json_availability['updateTime']).strftime('%Y-%m-%d %H:%M:%S'))"
   ]
  },
  {
   "cell_type": "markdown",
   "metadata": {},
   "source": [
    "Create a dataframe so that we can easily filter out the non-available stations:"
   ]
  },
  {
   "cell_type": "code",
   "execution_count": 8,
   "metadata": {
    "collapsed": false
   },
   "outputs": [
    {
     "data": {
      "text/html": [
       "<div>\n",
       "<table border=\"1\" class=\"dataframe\">\n",
       "  <thead>\n",
       "    <tr style=\"text-align: right;\">\n",
       "      <th></th>\n",
       "      <th>bikes</th>\n",
       "      <th>bikes_ok</th>\n",
       "      <th>entry_date</th>\n",
       "      <th>slots</th>\n",
       "      <th>slots_ok</th>\n",
       "      <th>station_id</th>\n",
       "      <th>station_lat</th>\n",
       "      <th>station_lon</th>\n",
       "      <th>station_name</th>\n",
       "    </tr>\n",
       "  </thead>\n",
       "  <tbody>\n",
       "    <tr>\n",
       "      <th>0</th>\n",
       "      <td>1</td>\n",
       "      <td>False</td>\n",
       "      <td>2018-07-02 20:09:08</td>\n",
       "      <td>18</td>\n",
       "      <td>True</td>\n",
       "      <td>29</td>\n",
       "      <td>41.401101</td>\n",
       "      <td>2.170082</td>\n",
       "      <td>Provença, 388</td>\n",
       "    </tr>\n",
       "    <tr>\n",
       "      <th>1</th>\n",
       "      <td>2</td>\n",
       "      <td>True</td>\n",
       "      <td>2018-07-02 20:09:08</td>\n",
       "      <td>27</td>\n",
       "      <td>True</td>\n",
       "      <td>19</td>\n",
       "      <td>41.403282</td>\n",
       "      <td>2.170726</td>\n",
       "      <td>Rossello, 354</td>\n",
       "    </tr>\n",
       "    <tr>\n",
       "      <th>2</th>\n",
       "      <td>0</td>\n",
       "      <td>False</td>\n",
       "      <td>2018-07-02 20:09:08</td>\n",
       "      <td>29</td>\n",
       "      <td>True</td>\n",
       "      <td>362</td>\n",
       "      <td>41.397006</td>\n",
       "      <td>2.170570</td>\n",
       "      <td>Bailén, 100</td>\n",
       "    </tr>\n",
       "    <tr>\n",
       "      <th>3</th>\n",
       "      <td>0</td>\n",
       "      <td>False</td>\n",
       "      <td>2018-07-02 20:09:08</td>\n",
       "      <td>18</td>\n",
       "      <td>True</td>\n",
       "      <td>123</td>\n",
       "      <td>41.397411</td>\n",
       "      <td>2.167798</td>\n",
       "      <td>Girona, 126</td>\n",
       "    </tr>\n",
       "    <tr>\n",
       "      <th>4</th>\n",
       "      <td>6</td>\n",
       "      <td>True</td>\n",
       "      <td>2018-07-02 20:09:08</td>\n",
       "      <td>17</td>\n",
       "      <td>True</td>\n",
       "      <td>224</td>\n",
       "      <td>41.399102</td>\n",
       "      <td>2.165556</td>\n",
       "      <td>Girona, 156</td>\n",
       "    </tr>\n",
       "    <tr>\n",
       "      <th>5</th>\n",
       "      <td>14</td>\n",
       "      <td>True</td>\n",
       "      <td>2018-07-02 20:09:08</td>\n",
       "      <td>13</td>\n",
       "      <td>True</td>\n",
       "      <td>370</td>\n",
       "      <td>41.403735</td>\n",
       "      <td>2.172987</td>\n",
       "      <td>Sardenya, 234</td>\n",
       "    </tr>\n",
       "    <tr>\n",
       "      <th>6</th>\n",
       "      <td>1</td>\n",
       "      <td>False</td>\n",
       "      <td>2018-07-02 20:09:08</td>\n",
       "      <td>20</td>\n",
       "      <td>True</td>\n",
       "      <td>22</td>\n",
       "      <td>41.402051</td>\n",
       "      <td>2.175206</td>\n",
       "      <td>Sardenya, 296</td>\n",
       "    </tr>\n",
       "  </tbody>\n",
       "</table>\n",
       "</div>"
      ],
      "text/plain": [
       "  bikes bikes_ok           entry_date slots slots_ok  station_id  station_lat  \\\n",
       "0     1    False  2018-07-02 20:09:08    18     True          29    41.401101   \n",
       "1     2     True  2018-07-02 20:09:08    27     True          19    41.403282   \n",
       "2     0    False  2018-07-02 20:09:08    29     True         362    41.397006   \n",
       "3     0    False  2018-07-02 20:09:08    18     True         123    41.397411   \n",
       "4     6     True  2018-07-02 20:09:08    17     True         224    41.399102   \n",
       "5    14     True  2018-07-02 20:09:08    13     True         370    41.403735   \n",
       "6     1    False  2018-07-02 20:09:08    20     True          22    41.402051   \n",
       "\n",
       "   station_lon   station_name  \n",
       "0     2.170082  Provença, 388  \n",
       "1     2.170726  Rossello, 354  \n",
       "2     2.170570    Bailén, 100  \n",
       "3     2.167798    Girona, 126  \n",
       "4     2.165556    Girona, 156  \n",
       "5     2.172987  Sardenya, 234  \n",
       "6     2.175206  Sardenya, 296  "
      ]
     },
     "execution_count": 8,
     "metadata": {},
     "output_type": "execute_result"
    }
   ],
   "source": [
    "import pandas as pd\n",
    "dataset = pd.DataFrame({'station_id':station_id,\n",
    "                        'station_name':station_name,\n",
    "                        'station_lat':station_lat,\n",
    "                        'station_lon':station_lon,\n",
    "                        'bikes':bikes,\n",
    "                        'slots':slots,\n",
    "                        'bikes_ok':bikes_ok,\n",
    "                        'slots_ok':slots_ok,\n",
    "                        'entry_date':dates\n",
    "                       })\n",
    "dataset"
   ]
  },
  {
   "cell_type": "markdown",
   "metadata": {},
   "source": [
    "#### Map out the available stations"
   ]
  },
  {
   "cell_type": "markdown",
   "metadata": {},
   "source": [
    "Filter out stations that are not available:"
   ]
  },
  {
   "cell_type": "code",
   "execution_count": 9,
   "metadata": {
    "collapsed": false
   },
   "outputs": [
    {
     "data": {
      "text/html": [
       "<div>\n",
       "<table border=\"1\" class=\"dataframe\">\n",
       "  <thead>\n",
       "    <tr style=\"text-align: right;\">\n",
       "      <th></th>\n",
       "      <th>bikes</th>\n",
       "      <th>bikes_ok</th>\n",
       "      <th>entry_date</th>\n",
       "      <th>slots</th>\n",
       "      <th>slots_ok</th>\n",
       "      <th>station_id</th>\n",
       "      <th>station_lat</th>\n",
       "      <th>station_lon</th>\n",
       "      <th>station_name</th>\n",
       "    </tr>\n",
       "  </thead>\n",
       "  <tbody>\n",
       "    <tr>\n",
       "      <th>0</th>\n",
       "      <td>2</td>\n",
       "      <td>True</td>\n",
       "      <td>2018-07-02 20:09:08</td>\n",
       "      <td>27</td>\n",
       "      <td>True</td>\n",
       "      <td>19</td>\n",
       "      <td>41.403282</td>\n",
       "      <td>2.170726</td>\n",
       "      <td>Rossello, 354</td>\n",
       "    </tr>\n",
       "    <tr>\n",
       "      <th>1</th>\n",
       "      <td>6</td>\n",
       "      <td>True</td>\n",
       "      <td>2018-07-02 20:09:08</td>\n",
       "      <td>17</td>\n",
       "      <td>True</td>\n",
       "      <td>224</td>\n",
       "      <td>41.399102</td>\n",
       "      <td>2.165556</td>\n",
       "      <td>Girona, 156</td>\n",
       "    </tr>\n",
       "    <tr>\n",
       "      <th>2</th>\n",
       "      <td>14</td>\n",
       "      <td>True</td>\n",
       "      <td>2018-07-02 20:09:08</td>\n",
       "      <td>13</td>\n",
       "      <td>True</td>\n",
       "      <td>370</td>\n",
       "      <td>41.403735</td>\n",
       "      <td>2.172987</td>\n",
       "      <td>Sardenya, 234</td>\n",
       "    </tr>\n",
       "  </tbody>\n",
       "</table>\n",
       "</div>"
      ],
      "text/plain": [
       "  bikes bikes_ok           entry_date slots slots_ok  station_id  station_lat  \\\n",
       "0     2     True  2018-07-02 20:09:08    27     True          19    41.403282   \n",
       "1     6     True  2018-07-02 20:09:08    17     True         224    41.399102   \n",
       "2    14     True  2018-07-02 20:09:08    13     True         370    41.403735   \n",
       "\n",
       "   station_lon   station_name  \n",
       "0     2.170726  Rossello, 354  \n",
       "1     2.165556    Girona, 156  \n",
       "2     2.172987  Sardenya, 234  "
      ]
     },
     "execution_count": 9,
     "metadata": {},
     "output_type": "execute_result"
    }
   ],
   "source": [
    "dataset_clean_bikes = dataset[dataset.bikes_ok == True].reset_index(drop=True)\n",
    "dataset_clean_bikes"
   ]
  },
  {
   "cell_type": "code",
   "execution_count": 10,
   "metadata": {
    "collapsed": false
   },
   "outputs": [
    {
     "data": {
      "text/html": [
       "<div>\n",
       "<table border=\"1\" class=\"dataframe\">\n",
       "  <thead>\n",
       "    <tr style=\"text-align: right;\">\n",
       "      <th></th>\n",
       "      <th>bikes</th>\n",
       "      <th>bikes_ok</th>\n",
       "      <th>entry_date</th>\n",
       "      <th>slots</th>\n",
       "      <th>slots_ok</th>\n",
       "      <th>station_id</th>\n",
       "      <th>station_lat</th>\n",
       "      <th>station_lon</th>\n",
       "      <th>station_name</th>\n",
       "    </tr>\n",
       "  </thead>\n",
       "  <tbody>\n",
       "    <tr>\n",
       "      <th>0</th>\n",
       "      <td>1</td>\n",
       "      <td>False</td>\n",
       "      <td>2018-07-02 20:09:08</td>\n",
       "      <td>18</td>\n",
       "      <td>True</td>\n",
       "      <td>29</td>\n",
       "      <td>41.401101</td>\n",
       "      <td>2.170082</td>\n",
       "      <td>Provença, 388</td>\n",
       "    </tr>\n",
       "    <tr>\n",
       "      <th>1</th>\n",
       "      <td>2</td>\n",
       "      <td>True</td>\n",
       "      <td>2018-07-02 20:09:08</td>\n",
       "      <td>27</td>\n",
       "      <td>True</td>\n",
       "      <td>19</td>\n",
       "      <td>41.403282</td>\n",
       "      <td>2.170726</td>\n",
       "      <td>Rossello, 354</td>\n",
       "    </tr>\n",
       "    <tr>\n",
       "      <th>2</th>\n",
       "      <td>0</td>\n",
       "      <td>False</td>\n",
       "      <td>2018-07-02 20:09:08</td>\n",
       "      <td>29</td>\n",
       "      <td>True</td>\n",
       "      <td>362</td>\n",
       "      <td>41.397006</td>\n",
       "      <td>2.170570</td>\n",
       "      <td>Bailén, 100</td>\n",
       "    </tr>\n",
       "    <tr>\n",
       "      <th>3</th>\n",
       "      <td>0</td>\n",
       "      <td>False</td>\n",
       "      <td>2018-07-02 20:09:08</td>\n",
       "      <td>18</td>\n",
       "      <td>True</td>\n",
       "      <td>123</td>\n",
       "      <td>41.397411</td>\n",
       "      <td>2.167798</td>\n",
       "      <td>Girona, 126</td>\n",
       "    </tr>\n",
       "    <tr>\n",
       "      <th>4</th>\n",
       "      <td>6</td>\n",
       "      <td>True</td>\n",
       "      <td>2018-07-02 20:09:08</td>\n",
       "      <td>17</td>\n",
       "      <td>True</td>\n",
       "      <td>224</td>\n",
       "      <td>41.399102</td>\n",
       "      <td>2.165556</td>\n",
       "      <td>Girona, 156</td>\n",
       "    </tr>\n",
       "    <tr>\n",
       "      <th>5</th>\n",
       "      <td>14</td>\n",
       "      <td>True</td>\n",
       "      <td>2018-07-02 20:09:08</td>\n",
       "      <td>13</td>\n",
       "      <td>True</td>\n",
       "      <td>370</td>\n",
       "      <td>41.403735</td>\n",
       "      <td>2.172987</td>\n",
       "      <td>Sardenya, 234</td>\n",
       "    </tr>\n",
       "    <tr>\n",
       "      <th>6</th>\n",
       "      <td>1</td>\n",
       "      <td>False</td>\n",
       "      <td>2018-07-02 20:09:08</td>\n",
       "      <td>20</td>\n",
       "      <td>True</td>\n",
       "      <td>22</td>\n",
       "      <td>41.402051</td>\n",
       "      <td>2.175206</td>\n",
       "      <td>Sardenya, 296</td>\n",
       "    </tr>\n",
       "  </tbody>\n",
       "</table>\n",
       "</div>"
      ],
      "text/plain": [
       "  bikes bikes_ok           entry_date slots slots_ok  station_id  station_lat  \\\n",
       "0     1    False  2018-07-02 20:09:08    18     True          29    41.401101   \n",
       "1     2     True  2018-07-02 20:09:08    27     True          19    41.403282   \n",
       "2     0    False  2018-07-02 20:09:08    29     True         362    41.397006   \n",
       "3     0    False  2018-07-02 20:09:08    18     True         123    41.397411   \n",
       "4     6     True  2018-07-02 20:09:08    17     True         224    41.399102   \n",
       "5    14     True  2018-07-02 20:09:08    13     True         370    41.403735   \n",
       "6     1    False  2018-07-02 20:09:08    20     True          22    41.402051   \n",
       "\n",
       "   station_lon   station_name  \n",
       "0     2.170082  Provença, 388  \n",
       "1     2.170726  Rossello, 354  \n",
       "2     2.170570    Bailén, 100  \n",
       "3     2.167798    Girona, 126  \n",
       "4     2.165556    Girona, 156  \n",
       "5     2.172987  Sardenya, 234  \n",
       "6     2.175206  Sardenya, 296  "
      ]
     },
     "execution_count": 10,
     "metadata": {},
     "output_type": "execute_result"
    }
   ],
   "source": [
    "dataset_clean_slots = dataset[dataset.slots_ok == True].reset_index(drop=True)\n",
    "dataset_clean_slots"
   ]
  },
  {
   "cell_type": "markdown",
   "metadata": {},
   "source": [
    "Display on a map the cleaned up dataset:"
   ]
  },
  {
   "cell_type": "code",
   "execution_count": 11,
   "metadata": {
    "collapsed": true
   },
   "outputs": [],
   "source": [
    "import folium\n",
    "\n",
    "folmap_bikes = folium.Map(location=current_latlon, tiles='OpenStreetMap', zoom_start=20)\n",
    "folmap_slots = folium.Map(location=current_latlon, tiles='OpenStreetMap', zoom_start=20)"
   ]
  },
  {
   "cell_type": "markdown",
   "metadata": {},
   "source": [
    "Add to the map the markers of the available stations:"
   ]
  },
  {
   "cell_type": "code",
   "execution_count": 12,
   "metadata": {
    "collapsed": false,
    "scrolled": true
   },
   "outputs": [
    {
     "data": {
      "text/html": [
       "<div style=\"width:100%;\"><div style=\"position:relative;width:100%;height:0;padding-bottom:60%;\"><iframe src=\"data:text/html;charset=utf-8;base64,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\" style=\"position:absolute;width:100%;height:100%;left:0;top:0;border:none !important;\" allowfullscreen webkitallowfullscreen mozallowfullscreen></iframe></div></div>"
      ],
      "text/plain": [
       "<folium.folium.Map at 0x1c30c6835f8>"
      ]
     },
     "execution_count": 12,
     "metadata": {},
     "output_type": "execute_result"
    }
   ],
   "source": [
    "for idx,i in enumerate(dataset_clean_bikes.station_id):\n",
    "    folium.Marker([dataset_clean_bikes.station_lat[idx], \n",
    "                   dataset_clean_bikes.station_lon[idx]], \n",
    "                   popup=dataset_clean_bikes.station_name[idx]+' / Available bikes: '+dataset_clean_bikes.bikes[idx]+' / Available slots: '+dataset_clean_bikes.slots[idx]).add_to(folmap_bikes)\n",
    "folmap_bikes"
   ]
  },
  {
   "cell_type": "code",
   "execution_count": 13,
   "metadata": {
    "collapsed": false,
    "scrolled": true
   },
   "outputs": [
    {
     "data": {
      "text/html": [
       "<div style=\"width:100%;\"><div style=\"position:relative;width:100%;height:0;padding-bottom:60%;\"><iframe src=\"data:text/html;charset=utf-8;base64,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\" style=\"position:absolute;width:100%;height:100%;left:0;top:0;border:none !important;\" allowfullscreen webkitallowfullscreen mozallowfullscreen></iframe></div></div>"
      ],
      "text/plain": [
       "<folium.folium.Map at 0x1c30c683198>"
      ]
     },
     "execution_count": 13,
     "metadata": {},
     "output_type": "execute_result"
    }
   ],
   "source": [
    "for idx,i in enumerate(dataset_clean_slots.station_id):\n",
    "    folium.Marker([dataset_clean_slots.station_lat[idx], \n",
    "                   dataset_clean_slots.station_lon[idx]], \n",
    "                   popup=dataset_clean_slots.station_name[idx]+' / Available bikes: '+dataset_clean_slots.bikes[idx]+' / Available slots: '+dataset_clean_slots.slots[idx]).add_to(folmap_slots)\n",
    "folmap_slots"
   ]
  },
  {
   "cell_type": "code",
   "execution_count": null,
   "metadata": {
    "collapsed": true
   },
   "outputs": [],
   "source": []
  }
 ],
 "metadata": {
  "kernelspec": {
   "display_name": "Python 3",
   "language": "python",
   "name": "python3"
  },
  "language_info": {
   "codemirror_mode": {
    "name": "ipython",
    "version": 3
   },
   "file_extension": ".py",
   "mimetype": "text/x-python",
   "name": "python",
   "nbconvert_exporter": "python",
   "pygments_lexer": "ipython3",
   "version": "3.5.2"
  }
 },
 "nbformat": 4,
 "nbformat_minor": 2
}
