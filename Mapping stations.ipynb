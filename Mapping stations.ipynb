{
 "cells": [
  {
   "cell_type": "markdown",
   "metadata": {
    "deletable": true,
    "editable": true
   },
   "source": [
    "#### Get all the necessary credentials"
   ]
  },
  {
   "cell_type": "markdown",
   "metadata": {
    "deletable": true,
    "editable": true
   },
   "source": [
    "Create a function that locates the respective files (those need to be saved in the Credentials folder):"
   ]
  },
  {
   "cell_type": "code",
   "execution_count": 1,
   "metadata": {
    "collapsed": true,
    "deletable": true,
    "editable": true
   },
   "outputs": [],
   "source": [
    "from pathlib import Path\n",
    "import os\n",
    "\n",
    "def locate(filename):\n",
    "    cwd = Path(os.getcwd())\n",
    "    cwd_new = str(cwd.parent)+'\\Credentials'\n",
    "        \n",
    "    for r,d,f in os.walk(cwd_new):\n",
    "        for files in f:\n",
    "            if files == filename:\n",
    "                path = os.path.join(r,files)\n",
    "              \n",
    "    with open(path, 'r') as f:\n",
    "        content = f.readlines()\n",
    "        content = [x.strip() for x in content]\n",
    "        \n",
    "    return(content)"
   ]
  },
  {
   "cell_type": "markdown",
   "metadata": {
    "deletable": true,
    "editable": true
   },
   "source": [
    "#### Get your current location"
   ]
  },
  {
   "cell_type": "code",
   "execution_count": 2,
   "metadata": {
    "collapsed": false,
    "deletable": true,
    "editable": true
   },
   "outputs": [],
   "source": [
    "from geopy.geocoders import GoogleV3\n",
    "\n",
    "address = locate('home_address.txt')[0]\n",
    "key = locate('login_googleAPI.txt')[0]\n",
    "\n",
    "geolocator = GoogleV3(api_key=key)\n",
    "current_latlon = geolocator.geocode(address)[1]"
   ]
  },
  {
   "cell_type": "markdown",
   "metadata": {
    "collapsed": true,
    "deletable": true,
    "editable": true
   },
   "source": [
    "#### Identify the available bicing stations within the area"
   ]
  },
  {
   "cell_type": "markdown",
   "metadata": {
    "deletable": true,
    "editable": true
   },
   "source": [
    "Select the distance you are prepared to walk:"
   ]
  },
  {
   "cell_type": "code",
   "execution_count": 3,
   "metadata": {
    "collapsed": true,
    "deletable": true,
    "editable": true
   },
   "outputs": [],
   "source": [
    "distance = 0.3 # in kilometers"
   ]
  },
  {
   "cell_type": "markdown",
   "metadata": {
    "deletable": true,
    "editable": true
   },
   "source": [
    "Get the nearest stations within the radius:"
   ]
  },
  {
   "cell_type": "code",
   "execution_count": 4,
   "metadata": {
    "collapsed": true,
    "deletable": true,
    "editable": true
   },
   "outputs": [],
   "source": [
    "import json\n",
    "import requests\n",
    "\n",
    "current_lat = current_latlon[0]\n",
    "current_lon = current_latlon[1]\n",
    "\n",
    "url = 'http://barcelonaapi.marcpous.com/bicing'\n",
    "url_nearest = url+'/nearstation/latlon/'+str(current_lat)+'/'+str(current_lon)+'/'+str(distance)+'.json'\n",
    "res_nearest = requests.get(url_nearest)\n",
    "nearby = json.loads(res_nearest.text)"
   ]
  },
  {
   "cell_type": "markdown",
   "metadata": {
    "deletable": true,
    "editable": true
   },
   "source": [
    "Create a list of the selected stations:"
   ]
  },
  {
   "cell_type": "code",
   "execution_count": 5,
   "metadata": {
    "collapsed": true,
    "deletable": true,
    "editable": true
   },
   "outputs": [],
   "source": [
    "station_id = []\n",
    "station_name = []\n",
    "station_lat = []\n",
    "station_lon = []\n",
    "distance = []\n",
    "\n",
    "for idx,i in enumerate(nearby['data']['nearstations']):\n",
    "    station_id.append(int(nearby['data']['nearstations'][idx]['id']))\n",
    "    station_name.append(nearby['data']['nearstations'][idx]['name'])\n",
    "    station_lat.append(float(nearby['data']['nearstations'][idx]['lat']))\n",
    "    station_lon.append(float(nearby['data']['nearstations'][idx]['lon']))\n",
    "    distance.append(float(nearby['data']['nearstations'][idx]['distance']))"
   ]
  },
  {
   "cell_type": "markdown",
   "metadata": {
    "deletable": true,
    "editable": true
   },
   "source": [
    "Find out how many bikes are available at each of the selected stations:"
   ]
  },
  {
   "cell_type": "code",
   "execution_count": 6,
   "metadata": {
    "collapsed": true,
    "deletable": true,
    "editable": true
   },
   "outputs": [],
   "source": [
    "import datetime\n",
    "\n",
    "bikes = []\n",
    "slots = []\n",
    "dates = []\n",
    "bikes_ok = []\n",
    "slots_ok = []\n",
    "\n",
    "for idx,i in enumerate(station_id):\n",
    "    url_availability = 'http://wservice.viabicing.cat/v2/stations/'+str(i)\n",
    "    res_availability = requests.get(url_availability)\n",
    "    json_availability = json.loads(res_availability.text)\n",
    "    \n",
    "    bikes_num = json_availability['stations'][0]['bikes']\n",
    "    slots_num = json_availability['stations'][0]['slots']\n",
    "    \n",
    "    bikes.append(bikes_num)\n",
    "    slots.append(slots_num)\n",
    "    \n",
    "    if int(bikes_num) >= 2:\n",
    "        bikes_ok.append(True)\n",
    "    else:\n",
    "        bikes_ok.append(False)\n",
    "        \n",
    "    if int(slots_num) >= 2:\n",
    "        slots_ok.append(True)\n",
    "    else:\n",
    "        slots_ok.append(False)\n",
    "            \n",
    "    dates.append(datetime.datetime.fromtimestamp(json_availability['updateTime']).strftime('%Y-%m-%d %H:%M:%S'))"
   ]
  },
  {
   "cell_type": "markdown",
   "metadata": {
    "deletable": true,
    "editable": true
   },
   "source": [
    "Create a dataframe so that we can easily filter out the non-available stations:"
   ]
  },
  {
   "cell_type": "code",
   "execution_count": 7,
   "metadata": {
    "collapsed": false,
    "deletable": true,
    "editable": true
   },
   "outputs": [
    {
     "data": {
      "text/html": [
       "<div>\n",
       "<table border=\"1\" class=\"dataframe\">\n",
       "  <thead>\n",
       "    <tr style=\"text-align: right;\">\n",
       "      <th></th>\n",
       "      <th>bikes</th>\n",
       "      <th>bikes_ok</th>\n",
       "      <th>entry_date</th>\n",
       "      <th>slots</th>\n",
       "      <th>slots_ok</th>\n",
       "      <th>station_id</th>\n",
       "      <th>station_lat</th>\n",
       "      <th>station_lon</th>\n",
       "      <th>station_name</th>\n",
       "    </tr>\n",
       "  </thead>\n",
       "  <tbody>\n",
       "    <tr>\n",
       "      <th>0</th>\n",
       "      <td>11</td>\n",
       "      <td>True</td>\n",
       "      <td>2018-07-02 22:43:08</td>\n",
       "      <td>8</td>\n",
       "      <td>True</td>\n",
       "      <td>29</td>\n",
       "      <td>41.401101</td>\n",
       "      <td>2.170082</td>\n",
       "      <td>Provença, 388</td>\n",
       "    </tr>\n",
       "    <tr>\n",
       "      <th>1</th>\n",
       "      <td>5</td>\n",
       "      <td>True</td>\n",
       "      <td>2018-07-02 22:43:08</td>\n",
       "      <td>24</td>\n",
       "      <td>True</td>\n",
       "      <td>19</td>\n",
       "      <td>41.403282</td>\n",
       "      <td>2.170726</td>\n",
       "      <td>Rossello, 354</td>\n",
       "    </tr>\n",
       "    <tr>\n",
       "      <th>2</th>\n",
       "      <td>25</td>\n",
       "      <td>True</td>\n",
       "      <td>2018-07-02 22:43:08</td>\n",
       "      <td>3</td>\n",
       "      <td>True</td>\n",
       "      <td>362</td>\n",
       "      <td>41.397006</td>\n",
       "      <td>2.170570</td>\n",
       "      <td>Bailén, 100</td>\n",
       "    </tr>\n",
       "    <tr>\n",
       "      <th>3</th>\n",
       "      <td>3</td>\n",
       "      <td>True</td>\n",
       "      <td>2018-07-02 22:43:08</td>\n",
       "      <td>15</td>\n",
       "      <td>True</td>\n",
       "      <td>123</td>\n",
       "      <td>41.397411</td>\n",
       "      <td>2.167798</td>\n",
       "      <td>Girona, 126</td>\n",
       "    </tr>\n",
       "    <tr>\n",
       "      <th>4</th>\n",
       "      <td>2</td>\n",
       "      <td>True</td>\n",
       "      <td>2018-07-02 22:43:08</td>\n",
       "      <td>21</td>\n",
       "      <td>True</td>\n",
       "      <td>224</td>\n",
       "      <td>41.399102</td>\n",
       "      <td>2.165556</td>\n",
       "      <td>Girona, 156</td>\n",
       "    </tr>\n",
       "    <tr>\n",
       "      <th>5</th>\n",
       "      <td>26</td>\n",
       "      <td>True</td>\n",
       "      <td>2018-07-02 22:43:08</td>\n",
       "      <td>0</td>\n",
       "      <td>False</td>\n",
       "      <td>370</td>\n",
       "      <td>41.403735</td>\n",
       "      <td>2.172987</td>\n",
       "      <td>Sardenya, 234</td>\n",
       "    </tr>\n",
       "    <tr>\n",
       "      <th>6</th>\n",
       "      <td>6</td>\n",
       "      <td>True</td>\n",
       "      <td>2018-07-02 22:43:08</td>\n",
       "      <td>15</td>\n",
       "      <td>True</td>\n",
       "      <td>22</td>\n",
       "      <td>41.402051</td>\n",
       "      <td>2.175206</td>\n",
       "      <td>Sardenya, 296</td>\n",
       "    </tr>\n",
       "  </tbody>\n",
       "</table>\n",
       "</div>"
      ],
      "text/plain": [
       "  bikes bikes_ok           entry_date slots slots_ok  station_id  station_lat  \\\n",
       "0    11     True  2018-07-02 22:43:08     8     True          29    41.401101   \n",
       "1     5     True  2018-07-02 22:43:08    24     True          19    41.403282   \n",
       "2    25     True  2018-07-02 22:43:08     3     True         362    41.397006   \n",
       "3     3     True  2018-07-02 22:43:08    15     True         123    41.397411   \n",
       "4     2     True  2018-07-02 22:43:08    21     True         224    41.399102   \n",
       "5    26     True  2018-07-02 22:43:08     0    False         370    41.403735   \n",
       "6     6     True  2018-07-02 22:43:08    15     True          22    41.402051   \n",
       "\n",
       "   station_lon   station_name  \n",
       "0     2.170082  Provença, 388  \n",
       "1     2.170726  Rossello, 354  \n",
       "2     2.170570    Bailén, 100  \n",
       "3     2.167798    Girona, 126  \n",
       "4     2.165556    Girona, 156  \n",
       "5     2.172987  Sardenya, 234  \n",
       "6     2.175206  Sardenya, 296  "
      ]
     },
     "execution_count": 7,
     "metadata": {},
     "output_type": "execute_result"
    }
   ],
   "source": [
    "import pandas as pd\n",
    "dataset = pd.DataFrame({'station_id':station_id,\n",
    "                        'station_name':station_name,\n",
    "                        'station_lat':station_lat,\n",
    "                        'station_lon':station_lon,\n",
    "                        'bikes':bikes,\n",
    "                        'slots':slots,\n",
    "                        'bikes_ok':bikes_ok,\n",
    "                        'slots_ok':slots_ok,\n",
    "                        'entry_date':dates\n",
    "                       })\n",
    "dataset"
   ]
  },
  {
   "cell_type": "markdown",
   "metadata": {
    "deletable": true,
    "editable": true
   },
   "source": [
    "#### Map out the available stations"
   ]
  },
  {
   "cell_type": "markdown",
   "metadata": {
    "deletable": true,
    "editable": true
   },
   "source": [
    "Filter out stations that are not available:"
   ]
  },
  {
   "cell_type": "code",
   "execution_count": 8,
   "metadata": {
    "collapsed": false,
    "deletable": true,
    "editable": true
   },
   "outputs": [
    {
     "data": {
      "text/html": [
       "<div>\n",
       "<table border=\"1\" class=\"dataframe\">\n",
       "  <thead>\n",
       "    <tr style=\"text-align: right;\">\n",
       "      <th></th>\n",
       "      <th>bikes</th>\n",
       "      <th>bikes_ok</th>\n",
       "      <th>entry_date</th>\n",
       "      <th>slots</th>\n",
       "      <th>slots_ok</th>\n",
       "      <th>station_id</th>\n",
       "      <th>station_lat</th>\n",
       "      <th>station_lon</th>\n",
       "      <th>station_name</th>\n",
       "    </tr>\n",
       "  </thead>\n",
       "  <tbody>\n",
       "    <tr>\n",
       "      <th>0</th>\n",
       "      <td>11</td>\n",
       "      <td>True</td>\n",
       "      <td>2018-07-02 22:43:08</td>\n",
       "      <td>8</td>\n",
       "      <td>True</td>\n",
       "      <td>29</td>\n",
       "      <td>41.401101</td>\n",
       "      <td>2.170082</td>\n",
       "      <td>Provença, 388</td>\n",
       "    </tr>\n",
       "    <tr>\n",
       "      <th>1</th>\n",
       "      <td>5</td>\n",
       "      <td>True</td>\n",
       "      <td>2018-07-02 22:43:08</td>\n",
       "      <td>24</td>\n",
       "      <td>True</td>\n",
       "      <td>19</td>\n",
       "      <td>41.403282</td>\n",
       "      <td>2.170726</td>\n",
       "      <td>Rossello, 354</td>\n",
       "    </tr>\n",
       "    <tr>\n",
       "      <th>2</th>\n",
       "      <td>25</td>\n",
       "      <td>True</td>\n",
       "      <td>2018-07-02 22:43:08</td>\n",
       "      <td>3</td>\n",
       "      <td>True</td>\n",
       "      <td>362</td>\n",
       "      <td>41.397006</td>\n",
       "      <td>2.170570</td>\n",
       "      <td>Bailén, 100</td>\n",
       "    </tr>\n",
       "    <tr>\n",
       "      <th>3</th>\n",
       "      <td>3</td>\n",
       "      <td>True</td>\n",
       "      <td>2018-07-02 22:43:08</td>\n",
       "      <td>15</td>\n",
       "      <td>True</td>\n",
       "      <td>123</td>\n",
       "      <td>41.397411</td>\n",
       "      <td>2.167798</td>\n",
       "      <td>Girona, 126</td>\n",
       "    </tr>\n",
       "    <tr>\n",
       "      <th>4</th>\n",
       "      <td>2</td>\n",
       "      <td>True</td>\n",
       "      <td>2018-07-02 22:43:08</td>\n",
       "      <td>21</td>\n",
       "      <td>True</td>\n",
       "      <td>224</td>\n",
       "      <td>41.399102</td>\n",
       "      <td>2.165556</td>\n",
       "      <td>Girona, 156</td>\n",
       "    </tr>\n",
       "    <tr>\n",
       "      <th>5</th>\n",
       "      <td>26</td>\n",
       "      <td>True</td>\n",
       "      <td>2018-07-02 22:43:08</td>\n",
       "      <td>0</td>\n",
       "      <td>False</td>\n",
       "      <td>370</td>\n",
       "      <td>41.403735</td>\n",
       "      <td>2.172987</td>\n",
       "      <td>Sardenya, 234</td>\n",
       "    </tr>\n",
       "    <tr>\n",
       "      <th>6</th>\n",
       "      <td>6</td>\n",
       "      <td>True</td>\n",
       "      <td>2018-07-02 22:43:08</td>\n",
       "      <td>15</td>\n",
       "      <td>True</td>\n",
       "      <td>22</td>\n",
       "      <td>41.402051</td>\n",
       "      <td>2.175206</td>\n",
       "      <td>Sardenya, 296</td>\n",
       "    </tr>\n",
       "  </tbody>\n",
       "</table>\n",
       "</div>"
      ],
      "text/plain": [
       "  bikes bikes_ok           entry_date slots slots_ok  station_id  station_lat  \\\n",
       "0    11     True  2018-07-02 22:43:08     8     True          29    41.401101   \n",
       "1     5     True  2018-07-02 22:43:08    24     True          19    41.403282   \n",
       "2    25     True  2018-07-02 22:43:08     3     True         362    41.397006   \n",
       "3     3     True  2018-07-02 22:43:08    15     True         123    41.397411   \n",
       "4     2     True  2018-07-02 22:43:08    21     True         224    41.399102   \n",
       "5    26     True  2018-07-02 22:43:08     0    False         370    41.403735   \n",
       "6     6     True  2018-07-02 22:43:08    15     True          22    41.402051   \n",
       "\n",
       "   station_lon   station_name  \n",
       "0     2.170082  Provença, 388  \n",
       "1     2.170726  Rossello, 354  \n",
       "2     2.170570    Bailén, 100  \n",
       "3     2.167798    Girona, 126  \n",
       "4     2.165556    Girona, 156  \n",
       "5     2.172987  Sardenya, 234  \n",
       "6     2.175206  Sardenya, 296  "
      ]
     },
     "execution_count": 8,
     "metadata": {},
     "output_type": "execute_result"
    }
   ],
   "source": [
    "dataset_clean_bikes = dataset[dataset.bikes_ok == True].reset_index(drop=True)\n",
    "dataset_clean_bikes"
   ]
  },
  {
   "cell_type": "code",
   "execution_count": 9,
   "metadata": {
    "collapsed": false,
    "deletable": true,
    "editable": true
   },
   "outputs": [
    {
     "data": {
      "text/html": [
       "<div>\n",
       "<table border=\"1\" class=\"dataframe\">\n",
       "  <thead>\n",
       "    <tr style=\"text-align: right;\">\n",
       "      <th></th>\n",
       "      <th>bikes</th>\n",
       "      <th>bikes_ok</th>\n",
       "      <th>entry_date</th>\n",
       "      <th>slots</th>\n",
       "      <th>slots_ok</th>\n",
       "      <th>station_id</th>\n",
       "      <th>station_lat</th>\n",
       "      <th>station_lon</th>\n",
       "      <th>station_name</th>\n",
       "    </tr>\n",
       "  </thead>\n",
       "  <tbody>\n",
       "    <tr>\n",
       "      <th>0</th>\n",
       "      <td>11</td>\n",
       "      <td>True</td>\n",
       "      <td>2018-07-02 22:43:08</td>\n",
       "      <td>8</td>\n",
       "      <td>True</td>\n",
       "      <td>29</td>\n",
       "      <td>41.401101</td>\n",
       "      <td>2.170082</td>\n",
       "      <td>Provença, 388</td>\n",
       "    </tr>\n",
       "    <tr>\n",
       "      <th>1</th>\n",
       "      <td>5</td>\n",
       "      <td>True</td>\n",
       "      <td>2018-07-02 22:43:08</td>\n",
       "      <td>24</td>\n",
       "      <td>True</td>\n",
       "      <td>19</td>\n",
       "      <td>41.403282</td>\n",
       "      <td>2.170726</td>\n",
       "      <td>Rossello, 354</td>\n",
       "    </tr>\n",
       "    <tr>\n",
       "      <th>2</th>\n",
       "      <td>25</td>\n",
       "      <td>True</td>\n",
       "      <td>2018-07-02 22:43:08</td>\n",
       "      <td>3</td>\n",
       "      <td>True</td>\n",
       "      <td>362</td>\n",
       "      <td>41.397006</td>\n",
       "      <td>2.170570</td>\n",
       "      <td>Bailén, 100</td>\n",
       "    </tr>\n",
       "    <tr>\n",
       "      <th>3</th>\n",
       "      <td>3</td>\n",
       "      <td>True</td>\n",
       "      <td>2018-07-02 22:43:08</td>\n",
       "      <td>15</td>\n",
       "      <td>True</td>\n",
       "      <td>123</td>\n",
       "      <td>41.397411</td>\n",
       "      <td>2.167798</td>\n",
       "      <td>Girona, 126</td>\n",
       "    </tr>\n",
       "    <tr>\n",
       "      <th>4</th>\n",
       "      <td>2</td>\n",
       "      <td>True</td>\n",
       "      <td>2018-07-02 22:43:08</td>\n",
       "      <td>21</td>\n",
       "      <td>True</td>\n",
       "      <td>224</td>\n",
       "      <td>41.399102</td>\n",
       "      <td>2.165556</td>\n",
       "      <td>Girona, 156</td>\n",
       "    </tr>\n",
       "    <tr>\n",
       "      <th>5</th>\n",
       "      <td>6</td>\n",
       "      <td>True</td>\n",
       "      <td>2018-07-02 22:43:08</td>\n",
       "      <td>15</td>\n",
       "      <td>True</td>\n",
       "      <td>22</td>\n",
       "      <td>41.402051</td>\n",
       "      <td>2.175206</td>\n",
       "      <td>Sardenya, 296</td>\n",
       "    </tr>\n",
       "  </tbody>\n",
       "</table>\n",
       "</div>"
      ],
      "text/plain": [
       "  bikes bikes_ok           entry_date slots slots_ok  station_id  station_lat  \\\n",
       "0    11     True  2018-07-02 22:43:08     8     True          29    41.401101   \n",
       "1     5     True  2018-07-02 22:43:08    24     True          19    41.403282   \n",
       "2    25     True  2018-07-02 22:43:08     3     True         362    41.397006   \n",
       "3     3     True  2018-07-02 22:43:08    15     True         123    41.397411   \n",
       "4     2     True  2018-07-02 22:43:08    21     True         224    41.399102   \n",
       "5     6     True  2018-07-02 22:43:08    15     True          22    41.402051   \n",
       "\n",
       "   station_lon   station_name  \n",
       "0     2.170082  Provença, 388  \n",
       "1     2.170726  Rossello, 354  \n",
       "2     2.170570    Bailén, 100  \n",
       "3     2.167798    Girona, 126  \n",
       "4     2.165556    Girona, 156  \n",
       "5     2.175206  Sardenya, 296  "
      ]
     },
     "execution_count": 9,
     "metadata": {},
     "output_type": "execute_result"
    }
   ],
   "source": [
    "dataset_clean_slots = dataset[dataset.slots_ok == True].reset_index(drop=True)\n",
    "dataset_clean_slots"
   ]
  },
  {
   "cell_type": "markdown",
   "metadata": {
    "deletable": true,
    "editable": true
   },
   "source": [
    "Display on a map the cleaned up dataset:"
   ]
  },
  {
   "cell_type": "code",
   "execution_count": 10,
   "metadata": {
    "collapsed": true,
    "deletable": true,
    "editable": true
   },
   "outputs": [],
   "source": [
    "import folium\n",
    "\n",
    "folmap_bikes = folium.Map(location=current_latlon, tiles='OpenStreetMap', zoom_start=20)\n",
    "folmap_slots = folium.Map(location=current_latlon, tiles='OpenStreetMap', zoom_start=20)"
   ]
  },
  {
   "cell_type": "markdown",
   "metadata": {
    "deletable": true,
    "editable": true
   },
   "source": [
    "Add to the map the markers of the available stations:"
   ]
  },
  {
   "cell_type": "code",
   "execution_count": 11,
   "metadata": {
    "collapsed": false,
    "deletable": true,
    "editable": true,
    "scrolled": true
   },
   "outputs": [
    {
     "data": {
      "text/html": [
       "<div style=\"width:100%;\"><div style=\"position:relative;width:100%;height:0;padding-bottom:60%;\"><iframe src=\"data:text/html;charset=utf-8;base64,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\" style=\"position:absolute;width:100%;height:100%;left:0;top:0;border:none !important;\" allowfullscreen webkitallowfullscreen mozallowfullscreen></iframe></div></div>"
      ],
      "text/plain": [
       "<folium.folium.Map at 0x2b932dfd9e8>"
      ]
     },
     "execution_count": 11,
     "metadata": {},
     "output_type": "execute_result"
    }
   ],
   "source": [
    "for idx,i in enumerate(dataset_clean_bikes.station_id):\n",
    "    folium.Marker([dataset_clean_bikes.station_lat[idx], \n",
    "                   dataset_clean_bikes.station_lon[idx]], \n",
    "                   popup=dataset_clean_bikes.station_name[idx]+' / Available bikes: '+dataset_clean_bikes.bikes[idx]+' / Available slots: '+dataset_clean_bikes.slots[idx]).add_to(folmap_bikes)\n",
    "folmap_bikes"
   ]
  },
  {
   "cell_type": "code",
   "execution_count": 12,
   "metadata": {
    "collapsed": false,
    "deletable": true,
    "editable": true,
    "scrolled": true
   },
   "outputs": [
    {
     "data": {
      "text/html": [
       "<div style=\"width:100%;\"><div style=\"position:relative;width:100%;height:0;padding-bottom:60%;\"><iframe src=\"data:text/html;charset=utf-8;base64,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\" style=\"position:absolute;width:100%;height:100%;left:0;top:0;border:none !important;\" allowfullscreen webkitallowfullscreen mozallowfullscreen></iframe></div></div>"
      ],
      "text/plain": [
       "<folium.folium.Map at 0x2b932dfd9b0>"
      ]
     },
     "execution_count": 12,
     "metadata": {},
     "output_type": "execute_result"
    }
   ],
   "source": [
    "for idx,i in enumerate(dataset_clean_slots.station_id):\n",
    "    folium.Marker([dataset_clean_slots.station_lat[idx], \n",
    "                   dataset_clean_slots.station_lon[idx]], \n",
    "                   popup=dataset_clean_slots.station_name[idx]+' / Available bikes: '+dataset_clean_slots.bikes[idx]+' / Available slots: '+dataset_clean_slots.slots[idx]).add_to(folmap_slots)\n",
    "folmap_slots"
   ]
  },
  {
   "cell_type": "code",
   "execution_count": null,
   "metadata": {
    "collapsed": true,
    "deletable": true,
    "editable": true
   },
   "outputs": [],
   "source": []
  }
 ],
 "metadata": {
  "kernelspec": {
   "display_name": "Python 3",
   "language": "python",
   "name": "python3"
  },
  "language_info": {
   "codemirror_mode": {
    "name": "ipython",
    "version": 3
   },
   "file_extension": ".py",
   "mimetype": "text/x-python",
   "name": "python",
   "nbconvert_exporter": "python",
   "pygments_lexer": "ipython3",
   "version": "3.5.2"
  }
 },
 "nbformat": 4,
 "nbformat_minor": 2
}
